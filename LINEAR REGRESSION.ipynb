{
 "cells": [
  {
   "cell_type": "code",
   "execution_count": 1,
   "metadata": {},
   "outputs": [
    {
     "name": "stdout",
     "output_type": "stream",
     "text": [
      "<bound method NDFrame.head of                       MODEL  \\\n",
      "0                      YEAR   \n",
      "1                      2000   \n",
      "2                      2000   \n",
      "3                      2000   \n",
      "4                      2000   \n",
      "...                     ...   \n",
      "14270                   NaN   \n",
      "14271                   NaN   \n",
      "14272                   NaN   \n",
      "14273      Fuel Consumption   \n",
      "14274  CO2 Emissions (g/km)   \n",
      "\n",
      "                                                    MAKE  \\\n",
      "0                                                    NaN   \n",
      "1                                                  ACURA   \n",
      "2                                                  ACURA   \n",
      "3                                                  ACURA   \n",
      "4                                                  ACURA   \n",
      "...                                                  ...   \n",
      "14270                                         D = Diesel   \n",
      "14271                                  E = Ethanol (E85)   \n",
      "14272                                    N = Natural Gas   \n",
      "14273  City and highway fuel consumption ratings are ...   \n",
      "14274  Estimated tailpipe carbon dioxide emissions (i...   \n",
      "\n",
      "                      MODEL.1 VEHICLE CLASS ENGINE SIZE  CYLINDERS  \\\n",
      "0      # = high output engine           NaN         (L)        NaN   \n",
      "1                       1.6EL       COMPACT         1.6        4.0   \n",
      "2                       1.6EL       COMPACT         1.6        4.0   \n",
      "3                       3.2TL      MID-SIZE         3.2        6.0   \n",
      "4                       3.5RL      MID-SIZE         3.5        6.0   \n",
      "...                       ...           ...         ...        ...   \n",
      "14270                     NaN           NaN         NaN        NaN   \n",
      "14271                     NaN           NaN         NaN        NaN   \n",
      "14272                     NaN           NaN         NaN        NaN   \n",
      "14273                     NaN           NaN         NaN        NaN   \n",
      "14274                     NaN           NaN         NaN        NaN   \n",
      "\n",
      "      TRANSMISSION  FUEL FUEL CONSUMPTION      Unnamed: 9      Unnamed: 10  \\\n",
      "0              NaN  TYPE  CITY (L/100 km)  HWY (L/100 km)  COMB (L/100 km)   \n",
      "1               A4     X              9.2             6.7              8.1   \n",
      "2               M5     X              8.5             6.5              7.6   \n",
      "3              AS5     Z             12.2             7.4             10.0   \n",
      "4               A4     Z             13.4             9.2             11.5   \n",
      "...            ...   ...              ...             ...              ...   \n",
      "14270          NaN   NaN              NaN             NaN              NaN   \n",
      "14271          NaN   NaN              NaN             NaN              NaN   \n",
      "14272          NaN   NaN              NaN             NaN              NaN   \n",
      "14273          NaN   NaN              NaN             NaN              NaN   \n",
      "14274          NaN   NaN              NaN             NaN              NaN   \n",
      "\n",
      "      Unnamed: 11 CO2 EMISSIONS   Unnamed: 13  Unnamed: 14  \n",
      "0      COMB (mpg)         (g/km)          NaN          NaN  \n",
      "1              35            186          NaN          NaN  \n",
      "2              37            175          NaN          NaN  \n",
      "3              28            230          NaN          NaN  \n",
      "4              25            264          NaN          NaN  \n",
      "...           ...            ...          ...          ...  \n",
      "14270         NaN            NaN          NaN          NaN  \n",
      "14271         NaN            NaN          NaN          NaN  \n",
      "14272         NaN            NaN          NaN          NaN  \n",
      "14273         NaN            NaN          NaN          NaN  \n",
      "14274         NaN            NaN          NaN          NaN  \n",
      "\n",
      "[14275 rows x 15 columns]>\n"
     ]
    },
    {
     "name": "stderr",
     "output_type": "stream",
     "text": [
      "C:\\Users\\user\\anaconda3\\lib\\site-packages\\IPython\\core\\interactiveshell.py:3063: DtypeWarning: Columns (0,4,8,9,10,11,12) have mixed types.Specify dtype option on import or set low_memory=False.\n",
      "  interactivity=interactivity, compiler=compiler, result=result)\n"
     ]
    }
   ],
   "source": [
    "import pandas as pd\n",
    "import numpy as np\n",
    "import pylab as pl\n",
    "import matplotlib.pyplot as plt\n",
    "%matplotlib inline\n",
    "fc = pd.read_csv(\"fuelconsumption.csv\",encoding='IBM437')\n",
    "fc = fc.iloc[:,0:15]\n",
    "print(fc.head)"
   ]
  },
  {
   "cell_type": "code",
   "execution_count": 2,
   "metadata": {},
   "outputs": [
    {
     "name": "stdout",
     "output_type": "stream",
     "text": [
      "Index(['MODEL', 'MAKE', 'MODEL.1', 'VEHICLE CLASS', 'ENGINE SIZE', 'CYLINDERS',\n",
      "       'TRANSMISSION', 'FUEL', 'FUEL CONSUMPTION', 'Unnamed: 9', 'Unnamed: 10',\n",
      "       'Unnamed: 11', 'CO2 EMISSIONS ', 'Unnamed: 13', 'Unnamed: 14'],\n",
      "      dtype='object')\n"
     ]
    }
   ],
   "source": [
    "print(fc.columns)"
   ]
  },
  {
   "cell_type": "markdown",
   "metadata": {},
   "source": [
    "cleaning and dropping the columns that are not needed for our analysis"
   ]
  },
  {
   "cell_type": "code",
   "execution_count": 3,
   "metadata": {},
   "outputs": [],
   "source": [
    "dropping = ['Unnamed: 9','Unnamed: 10','Unnamed: 11','Unnamed: 13','Unnamed: 14']\n",
    "fc = fc.drop(dropping,axis=1)"
   ]
  },
  {
   "cell_type": "code",
   "execution_count": 4,
   "metadata": {},
   "outputs": [
    {
     "name": "stdout",
     "output_type": "stream",
     "text": [
      "2009                       1092\n",
      "2012                       1081\n",
      "2008                       1079\n",
      "2011                       1076\n",
      "2007                       1043\n",
      "2014                       1040\n",
      "2010                       1021\n",
      "2006                        968\n",
      "2013                        926\n",
      "2004                        898\n",
      "2003                        820\n",
      "2002                        740\n",
      "2005                        700\n",
      "2001                        679\n",
      "2000                        639\n",
      "2005                        319\n",
      "2013                        132\n",
      "Fuel Type                     1\n",
      "Model                         1\n",
      "Transmission                  1\n",
      "YEAR                          1\n",
      "CO2 Emissions (g/km)          1\n",
      "Fuel Consumption              1\n",
      "Understanding the Table       1\n",
      "Name: MODEL, dtype: int64\n"
     ]
    }
   ],
   "source": [
    "print(fc['MODEL'].value_counts())"
   ]
  },
  {
   "cell_type": "markdown",
   "metadata": {},
   "source": [
    "Removing the null values and the inconsistent values from our dataset"
   ]
  },
  {
   "cell_type": "code",
   "execution_count": 5,
   "metadata": {},
   "outputs": [
    {
     "name": "stdout",
     "output_type": "stream",
     "text": [
      "  MODEL   MAKE  MODEL.1 VEHICLE CLASS ENGINE SIZE  CYLINDERS TRANSMISSION  \\\n",
      "1  2000  ACURA    1.6EL       COMPACT         1.6        4.0           A4   \n",
      "2  2000  ACURA    1.6EL       COMPACT         1.6        4.0           M5   \n",
      "3  2000  ACURA    3.2TL      MID-SIZE         3.2        6.0          AS5   \n",
      "4  2000  ACURA    3.5RL      MID-SIZE         3.5        6.0           A4   \n",
      "5  2000  ACURA  INTEGRA    SUBCOMPACT         1.8        4.0           A4   \n",
      "\n",
      "  FUEL FUEL CONSUMPTION CO2 EMISSIONS   \n",
      "1    X              9.2            186  \n",
      "2    X              8.5            175  \n",
      "3    Z             12.2            230  \n",
      "4    Z             13.4            264  \n",
      "5    X             10.0            198  \n"
     ]
    }
   ],
   "source": [
    "newfc =fc.dropna()\n",
    "print(newfc.head())"
   ]
  },
  {
   "cell_type": "code",
   "execution_count": 6,
   "metadata": {},
   "outputs": [
    {
     "name": "stdout",
     "output_type": "stream",
     "text": [
      "      MODEL   MAKE   MODEL.1   VEHICLE CLASS ENGINE SIZE  CYLINDERS  \\\n",
      "14249  2014  VOLVO  XC60 AWD     SUV - SMALL           3        6.0   \n",
      "14250  2014  VOLVO  XC60 AWD     SUV - SMALL         3.2        6.0   \n",
      "14251  2014  VOLVO  XC70 AWD     SUV - SMALL           3        6.0   \n",
      "14252  2014  VOLVO  XC70 AWD     SUV - SMALL         3.2        6.0   \n",
      "14253  2014  VOLVO  XC90 AWD  SUV - STANDARD         3.2        6.0   \n",
      "\n",
      "      TRANSMISSION FUEL FUEL CONSUMPTION CO2 EMISSIONS   \n",
      "14249          AS6    X             11.9            237  \n",
      "14250          AS6    X             11.7            230  \n",
      "14251          AS6    X             11.9            237  \n",
      "14252          AS6    X             11.4            225  \n",
      "14253          AS6    X             13.3            258  \n"
     ]
    }
   ],
   "source": [
    "print(newfc.tail())"
   ]
  },
  {
   "cell_type": "code",
   "execution_count": 7,
   "metadata": {},
   "outputs": [
    {
     "name": "stdout",
     "output_type": "stream",
     "text": [
      "<class 'pandas.core.frame.DataFrame'>\n",
      "Int64Index: 14253 entries, 1 to 14253\n",
      "Data columns (total 10 columns):\n",
      " #   Column            Non-Null Count  Dtype  \n",
      "---  ------            --------------  -----  \n",
      " 0   MODEL             14253 non-null  object \n",
      " 1   MAKE              14253 non-null  object \n",
      " 2   MODEL.1           14253 non-null  object \n",
      " 3   VEHICLE CLASS     14253 non-null  object \n",
      " 4   ENGINE SIZE       14253 non-null  object \n",
      " 5   CYLINDERS         14253 non-null  float64\n",
      " 6   TRANSMISSION      14253 non-null  object \n",
      " 7   FUEL              14253 non-null  object \n",
      " 8   FUEL CONSUMPTION  14253 non-null  object \n",
      " 9   CO2 EMISSIONS     14253 non-null  object \n",
      "dtypes: float64(1), object(9)\n",
      "memory usage: 1.2+ MB\n",
      "None\n"
     ]
    }
   ],
   "source": [
    "print(newfc.info())\n",
    "newfc = newfc.astype(str)"
   ]
  },
  {
   "cell_type": "code",
   "execution_count": 8,
   "metadata": {},
   "outputs": [
    {
     "data": {
      "image/png": "[encoded data removed]",
      "text/plain": [
       "<Figure size 432x288 with 4 Axes>"
      ]
     },
     "metadata": {
      "needs_background": "light"
     },
     "output_type": "display_data"
    },
    {
     "name": "stdout",
     "output_type": "stream",
     "text": [
      "       CYLINDERS  CO2 EMISSIONS   ENGINE SIZE  FUEL CONSUMPTION\n",
      "1            4.0           186.0          1.6               9.2\n",
      "2            4.0           175.0          1.6               8.5\n",
      "3            6.0           230.0          3.2              12.2\n",
      "4            6.0           264.0          3.5              13.4\n",
      "5            4.0           198.0          1.8              10.0\n",
      "...          ...             ...          ...               ...\n",
      "14249        6.0           237.0          3.0              11.9\n",
      "14250        6.0           230.0          3.2              11.7\n",
      "14251        6.0           237.0          3.0              11.9\n",
      "14252        6.0           225.0          3.2              11.4\n",
      "14253        6.0           258.0          3.2              13.3\n",
      "\n",
      "[14253 rows x 4 columns]\n"
     ]
    }
   ],
   "source": [
    "two = newfc[['CYLINDERS','CO2 EMISSIONS ','ENGINE SIZE','FUEL CONSUMPTION']]\n",
    "two = two.astype(float)\n",
    "two.hist()\n",
    "plt.show()\n",
    "print(two)"
   ]
  },
  {
   "cell_type": "code",
   "execution_count": 9,
   "metadata": {},
   "outputs": [
    {
     "data": {
      "image/png": "[encoded data removed]",
      "text/plain": [
       "<Figure size 432x288 with 1 Axes>"
      ]
     },
     "metadata": {
      "needs_background": "light"
     },
     "output_type": "display_data"
    }
   ],
   "source": [
    "plt.scatter(two['CYLINDERS'],two['ENGINE SIZE'],color='blue')\n",
    "plt.xlabel('cylinder')\n",
    "plt.ylabel('Engine Size')\n",
    "plt.show()"
   ]
  },
  {
   "cell_type": "code",
   "execution_count": 10,
   "metadata": {},
   "outputs": [
    {
     "data": {
      "image/png": "[encoded data removed]",
      "text/plain": [
       "<Figure size 432x288 with 1 Axes>"
      ]
     },
     "metadata": {
      "needs_background": "light"
     },
     "output_type": "display_data"
    }
   ],
   "source": [
    "plt.scatter(two['CYLINDERS'],two['CO2 EMISSIONS '],color='green')\n",
    "plt.xlabel('Cylinder')\n",
    "plt.ylabel('Emission')\n",
    "plt.show()"
   ]
  },
  {
   "cell_type": "code",
   "execution_count": 11,
   "metadata": {},
   "outputs": [
    {
     "name": "stdout",
     "output_type": "stream",
     "text": [
      "Index(['MODEL', 'MAKE', 'MODEL.1', 'VEHICLE CLASS', 'ENGINE SIZE', 'CYLINDERS',\n",
      "       'TRANSMISSION', 'FUEL', 'FUEL CONSUMPTION', 'CO2 EMISSIONS '],\n",
      "      dtype='object')\n"
     ]
    }
   ],
   "source": [
    "print(newfc.columns)"
   ]
  },
  {
   "cell_type": "code",
   "execution_count": 12,
   "metadata": {},
   "outputs": [
    {
     "name": "stdout",
     "output_type": "stream",
     "text": [
      "12.2    277\n",
      "11.7    258\n",
      "11.9    238\n",
      "13.1    225\n",
      "12.6    219\n",
      "       ... \n",
      "23.2      1\n",
      "5.3       1\n",
      "5.2       1\n",
      "3.6       1\n",
      "30.6      1\n",
      "Name: FUEL CONSUMPTION, Length: 214, dtype: int64\n"
     ]
    }
   ],
   "source": [
    "print(newfc['FUEL CONSUMPTION'].value_counts())"
   ]
  },
  {
   "cell_type": "code",
   "execution_count": 13,
   "metadata": {},
   "outputs": [],
   "source": [
    "nwfc = newfc[['ENGINE SIZE','CYLINDERS','FUEL CONSUMPTION','CO2 EMISSIONS ']]\n",
    "nwfc = nwfc.astype(float)\n",
    "msk = np.random.rand(len(nwfc)) < 0.8\n",
    "train = nwfc[msk]\n",
    "test = nwfc[~msk]\n"
   ]
  },
  {
   "cell_type": "code",
   "execution_count": 14,
   "metadata": {},
   "outputs": [
    {
     "data": {
      "image/png": "[encoded data removed]",
      "text/plain": [
       "<Figure size 432x288 with 1 Axes>"
      ]
     },
     "metadata": {
      "needs_background": "light"
     },
     "output_type": "display_data"
    }
   ],
   "source": [
    "plt.scatter(train['ENGINE SIZE'],train['CO2 EMISSIONS '],color='blue')\n",
    "plt.xlabel('Engine size')\n",
    "plt.ylabel('Emission')\n",
    "plt.show()"
   ]
  },
  {
   "cell_type": "code",
   "execution_count": 15,
   "metadata": {},
   "outputs": [
    {
     "name": "stdout",
     "output_type": "stream",
     "text": [
      "coefficients: [[37.00170655]]\n",
      "intercept: [119.94039436]\n"
     ]
    }
   ],
   "source": [
    "from sklearn import linear_model\n",
    "regr = linear_model.LinearRegression()\n",
    "train_x = np.asanyarray(train[['ENGINE SIZE']])\n",
    "train_y = np.asanyarray(train[['CO2 EMISSIONS ']])\n",
    "regr.fit(train_x,train_y)\n",
    "print('coefficients:', regr.coef_)\n",
    "print('intercept:', regr.intercept_)"
   ]
  },
  {
   "cell_type": "code",
   "execution_count": 16,
   "metadata": {},
   "outputs": [
    {
     "data": {
      "image/png": "[encoded data removed]",
      "text/plain": [
       "<Figure size 432x288 with 1 Axes>"
      ]
     },
     "metadata": {
      "needs_background": "light"
     },
     "output_type": "display_data"
    }
   ],
   "source": [
    "plt.scatter(train['ENGINE SIZE'],train['CO2 EMISSIONS '],color='blue')\n",
    "plt.plot(train_x,regr.coef_[0][0]*train_x + regr.intercept_[0],'r')\n",
    "plt.xlabel('Engine size')\n",
    "plt.ylabel('Emission')\n",
    "plt.show()"
   ]
  },
  {
   "cell_type": "code",
   "execution_count": 17,
   "metadata": {},
   "outputs": [
    {
     "name": "stdout",
     "output_type": "stream",
     "text": [
      "Mean absolute error: 25.33\n",
      "Residual sum of square(MSE): 1098.93\n",
      "R2- score: 0.54\n"
     ]
    }
   ],
   "source": [
    "from sklearn.metrics import r2_score\n",
    "test_x =np.asanyarray(test[['ENGINE SIZE']])\n",
    "test_y = np.asanyarray(test[['CO2 EMISSIONS ']])\n",
    "test_y_hat = regr.predict(test_x)\n",
    "print(\"Mean absolute error: %.2f\" % np.mean(np.absolute(test_y_hat - test_y)))\n",
    "print(\"Residual sum of square(MSE): %.2f\" % np.mean((test_y_hat - test_y)**2))\n",
    "print(\"R2- score: %.2f\" % r2_score(test_y_hat, test_y))"
   ]
  },
  {
   "cell_type": "code",
   "execution_count": 18,
   "metadata": {},
   "outputs": [
    {
     "name": "stdout",
     "output_type": "stream",
     "text": [
      "[248.46017279]\n"
     ]
    }
   ],
   "source": [
    "mean_y = (sum(test_y_hat) / len(test_y_hat))\n",
    "print(mean_y)"
   ]
  },
  {
   "cell_type": "code",
   "execution_count": 19,
   "metadata": {},
   "outputs": [
    {
     "name": "stdout",
     "output_type": "stream",
     "text": [
      "249.27457152850647\n"
     ]
    }
   ],
   "source": [
    "mean_test = (test['CO2 EMISSIONS '].mean())\n",
    "print(mean_test)"
   ]
  },
  {
   "cell_type": "code",
   "execution_count": 20,
   "metadata": {},
   "outputs": [
    {
     "name": "stdout",
     "output_type": "stream",
     "text": [
      "[0.81439874]\n"
     ]
    }
   ],
   "source": [
    "print(mean_test - mean_y)"
   ]
  },
  {
   "cell_type": "code",
   "execution_count": 21,
   "metadata": {},
   "outputs": [
    {
     "name": "stdout",
     "output_type": "stream",
     "text": [
      "coefficients: [[15.20851899]]\n",
      "intercept: [51.94158575]\n"
     ]
    }
   ],
   "source": [
    "from sklearn import linear_model\n",
    "regr = linear_model.LinearRegression()\n",
    "train_x = np.asanyarray(train[['FUEL CONSUMPTION']])\n",
    "train_y = np.asanyarray(train[['CO2 EMISSIONS ']])\n",
    "regr.fit(train_x,train_y)\n",
    "print('coefficients:', regr.coef_)\n",
    "print('intercept:', regr.intercept_)"
   ]
  },
  {
   "cell_type": "code",
   "execution_count": 22,
   "metadata": {},
   "outputs": [
    {
     "data": {
      "image/png": "[encoded data removed]",
      "text/plain": [
       "<Figure size 432x288 with 1 Axes>"
      ]
     },
     "metadata": {
      "needs_background": "light"
     },
     "output_type": "display_data"
    }
   ],
   "source": [
    "plt.scatter(train['FUEL CONSUMPTION'],train['CO2 EMISSIONS '],color='blue')\n",
    "plt.plot(train_x,regr.coef_[0][0]*train_x + regr.intercept_[0],'r')\n",
    "plt.xlabel('Fuel Consumption')\n",
    "plt.ylabel('Emission')\n",
    "plt.show()"
   ]
  },
  {
   "cell_type": "code",
   "execution_count": 23,
   "metadata": {},
   "outputs": [
    {
     "name": "stdout",
     "output_type": "stream",
     "text": [
      "Mean absolute error: 14.36\n",
      "Residual sum of square(MSE): 535.82\n",
      "R2-score: 0.82\n"
     ]
    }
   ],
   "source": [
    "from sklearn.metrics import r2_score\n",
    "test_x =np.asanyarray(test[['FUEL CONSUMPTION']])\n",
    "test_y = np.asanyarray(test[['CO2 EMISSIONS ']])\n",
    "test_y_hat = regr.predict(test_x)\n",
    "print(\"Mean absolute error: %.2f\" % np.mean(np.absolute(test_y_hat - test_y)))\n",
    "print(\"Residual sum of square(MSE): %.2f\" % np.mean((test_y_hat - test_y)**2))\n",
    "print(\"R2-score: %.2f\" % r2_score(test_y_hat, test_y))"
   ]
  },
  {
   "cell_type": "code",
   "execution_count": 24,
   "metadata": {},
   "outputs": [
    {
     "name": "stdout",
     "output_type": "stream",
     "text": [
      "  MODEL   MAKE                 MODEL.1 VEHICLE CLASS ENGINE SIZE  CYLINDERS  \\\n",
      "0  YEAR    NaN  # = high output engine           NaN         (L)        NaN   \n",
      "1  1995  ACURA                 INTEGRA    SUBCOMPACT         1.8        4.0   \n",
      "2  1995  ACURA                 INTEGRA    SUBCOMPACT         1.8        4.0   \n",
      "3  1995  ACURA            INTEGRA GS-R    SUBCOMPACT         1.8        4.0   \n",
      "4  1995  ACURA                  LEGEND       COMPACT         3.2        6.0   \n",
      "\n",
      "  TRANSMISSION  FUEL FUEL CONSUMPTION      Unnamed: 9      Unnamed: 10  \\\n",
      "0          NaN  TYPE  CITY (L/100 km)  HWY (L/100 km)  COMB (L/100 km)   \n",
      "1           A4     X             10.2             7.0              8.8   \n",
      "2           M5     X              9.6             7.0              8.4   \n",
      "3           M5     Z              9.4             7.0              8.3   \n",
      "4           A4     Z             12.6             8.9             10.9   \n",
      "\n",
      "  Unnamed: 11 CO2 EMISSIONS   \n",
      "0  COMB (mpg)         (g/km)  \n",
      "1          32            202  \n",
      "2          34            193  \n",
      "3          34            191  \n",
      "4          26            251  \n"
     ]
    }
   ],
   "source": [
    "fc_95 = pd.read_csv(\"fuel_consumption_1995.csv\", encoding=\"IBM437\",delimiter=',')\n",
    "print(fc_95.head())"
   ]
  },
  {
   "cell_type": "code",
   "execution_count": 25,
   "metadata": {},
   "outputs": [
    {
     "name": "stdout",
     "output_type": "stream",
     "text": [
      "Index(['MODEL', 'MAKE', 'MODEL.1', 'VEHICLE CLASS', 'ENGINE SIZE', 'CYLINDERS',\n",
      "       'TRANSMISSION', 'FUEL', 'FUEL CONSUMPTION', 'Unnamed: 9', 'Unnamed: 10',\n",
      "       'Unnamed: 11', 'CO2 EMISSIONS '],\n",
      "      dtype='object')\n"
     ]
    }
   ],
   "source": [
    "print(fc_95.columns)"
   ]
  },
  {
   "cell_type": "code",
   "execution_count": 26,
   "metadata": {},
   "outputs": [
    {
     "name": "stdout",
     "output_type": "stream",
     "text": [
      "  ENGINE SIZE  CYLINDERS FUEL CONSUMPTION CO2 EMISSIONS \n",
      "0         (L)        NaN  CITY (L/100 km)         (g/km)\n",
      "1         1.8        4.0             10.2            202\n",
      "2         1.8        4.0              9.6            193\n",
      "3         1.8        4.0              9.4            191\n",
      "4         3.2        6.0             12.6            251\n",
      "5         3.2        6.0             13.0            260\n",
      "6         3.2        6.0             13.4            258\n",
      "7         3.0        6.0             13.5            267\n",
      "8         3.0        6.0             12.9            255\n",
      "9         3.0        6.0             15.7            301\n"
     ]
    }
   ],
   "source": [
    "fc_ =fc_95[['ENGINE SIZE','CYLINDERS','FUEL CONSUMPTION','CO2 EMISSIONS ']]\n",
    "print(fc_.head(10))"
   ]
  },
  {
   "cell_type": "code",
   "execution_count": 27,
   "metadata": {},
   "outputs": [
    {
     "name": "stdout",
     "output_type": "stream",
     "text": [
      "     ENGINE SIZE  CYLINDERS FUEL CONSUMPTION CO2 EMISSIONS \n",
      "1            1.8        4.0             10.2            202\n",
      "2            1.8        4.0              9.6            193\n",
      "3            1.8        4.0              9.4            191\n",
      "4            3.2        6.0             12.6            251\n",
      "5            3.2        6.0             13.0            260\n",
      "...          ...        ...              ...            ...\n",
      "3515         2.3        5.0             11.9            232\n",
      "3516         2.3        5.0             11.9            232\n",
      "3517         2.4        5.0             11.6            225\n",
      "3518         2.4        5.0             11.2            221\n",
      "3519         2.3        5.0             12.9            255\n",
      "\n",
      "[3519 rows x 4 columns]\n"
     ]
    }
   ],
   "source": [
    "fc_ = fc_.dropna()\n",
    "\n",
    "print(fc_)\n"
   ]
  },
  {
   "cell_type": "code",
   "execution_count": 28,
   "metadata": {},
   "outputs": [],
   "source": [
    "fc_ = fc_.astype(float)"
   ]
  },
  {
   "cell_type": "code",
   "execution_count": 29,
   "metadata": {},
   "outputs": [
    {
     "data": {
      "text/plain": [
       "array([[<matplotlib.axes._subplots.AxesSubplot object at 0x000001F0420F1848>,\n",
       "        <matplotlib.axes._subplots.AxesSubplot object at 0x000001F042095DC8>],\n",
       "       [<matplotlib.axes._subplots.AxesSubplot object at 0x000001F042057948>,\n",
       "        <matplotlib.axes._subplots.AxesSubplot object at 0x000001F040E9ED88>]],\n",
       "      dtype=object)"
      ]
     },
     "execution_count": 29,
     "metadata": {},
     "output_type": "execute_result"
    },
    {
     "data": {
      "image/png": "[encoded data removed]",
      "text/plain": [
       "<Figure size 432x288 with 4 Axes>"
      ]
     },
     "metadata": {
      "needs_background": "light"
     },
     "output_type": "display_data"
    }
   ],
   "source": [
    "fc_.hist()"
   ]
  },
  {
   "cell_type": "code",
   "execution_count": 30,
   "metadata": {},
   "outputs": [
    {
     "name": "stdout",
     "output_type": "stream",
     "text": [
      "[[207.06847949]\n",
      " [197.94336809]\n",
      " [194.9016643 ]\n",
      " [243.56892508]\n",
      " [249.65233267]]\n"
     ]
    }
   ],
   "source": [
    "text_x = np.asanyarray(fc_[['FUEL CONSUMPTION']])\n",
    "text_y = np.asanyarray([['CO2 EMISSIONS ']])\n",
    "text_y_hat = regr.predict(text_x)\n",
    "print(text_y_hat[0:5])"
   ]
  },
  {
   "cell_type": "markdown",
   "metadata": {},
   "source": [
    "- Prediction of the CO2 gas emission using fuel consumption gives a more accurate result of 82% r2-score compare to engine size which gives a r2-score of 54%."
   ]
  },
  {
   "cell_type": "code",
   "execution_count": null,
   "metadata": {},
   "outputs": [],
   "source": []
  }
 ],
 "metadata": {
  "kernelspec": {
   "display_name": "Python 3",
   "language": "python",
   "name": "python3"
  },
  "language_info": {
   "codemirror_mode": {
    "name": "ipython",
    "version": 3
   },
   "file_extension": ".py",
   "mimetype": "text/x-python",
   "name": "python",
   "nbconvert_exporter": "python",
   "pygments_lexer": "ipython3",
   "version": "3.7.6"
  }
 },
 "nbformat": 4,
 "nbformat_minor": 4
}
